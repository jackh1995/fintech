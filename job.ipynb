{
 "cells": [
  {
   "cell_type": "code",
   "execution_count": 1,
   "metadata": {},
   "outputs": [],
   "source": [
    "import numpy as np\n",
    "import pandas as pd\n",
    "import re\n",
    "import nltk\n",
    "import math\n",
    "from IPython.display import display, HTML\n",
    "from matplotlib import pyplot as plt\n"
   ]
  },
  {
   "cell_type": "code",
   "execution_count": 48,
   "metadata": {},
   "outputs": [
    {
     "data": {
      "text/html": [
       "<div>\n",
       "<style scoped>\n",
       "    .dataframe tbody tr th:only-of-type {\n",
       "        vertical-align: middle;\n",
       "    }\n",
       "\n",
       "    .dataframe tbody tr th {\n",
       "        vertical-align: top;\n",
       "    }\n",
       "\n",
       "    .dataframe thead th {\n",
       "        text-align: right;\n",
       "    }\n",
       "</style>\n",
       "<table border=\"1\" class=\"dataframe\">\n",
       "  <thead>\n",
       "    <tr style=\"text-align: right;\">\n",
       "      <th></th>\n",
       "      <th>job_title</th>\n",
       "      <th>occupation</th>\n",
       "      <th>quota_origin</th>\n",
       "      <th>quota_now</th>\n",
       "      <th>quota_origin_elec</th>\n",
       "      <th>quota_now_elec</th>\n",
       "    </tr>\n",
       "  </thead>\n",
       "  <tbody>\n",
       "    <tr>\n",
       "      <th>0</th>\n",
       "      <td>維護工程師</td>\n",
       "      <td>21.0</td>\n",
       "      <td>1000000.0</td>\n",
       "      <td>500000.0</td>\n",
       "      <td>NaN</td>\n",
       "      <td>NaN</td>\n",
       "    </tr>\n",
       "    <tr>\n",
       "      <th>6</th>\n",
       "      <td>工程師</td>\n",
       "      <td>21.0</td>\n",
       "      <td>100000.0</td>\n",
       "      <td>100000.0</td>\n",
       "      <td>NaN</td>\n",
       "      <td>100000.0</td>\n",
       "    </tr>\n",
       "    <tr>\n",
       "      <th>9</th>\n",
       "      <td>高級工程師</td>\n",
       "      <td>2.0</td>\n",
       "      <td>500000.0</td>\n",
       "      <td>500000.0</td>\n",
       "      <td>NaN</td>\n",
       "      <td>500000.0</td>\n",
       "    </tr>\n",
       "    <tr>\n",
       "      <th>10</th>\n",
       "      <td>主任</td>\n",
       "      <td>8.0</td>\n",
       "      <td>200000.0</td>\n",
       "      <td>200000.0</td>\n",
       "      <td>NaN</td>\n",
       "      <td>200000.0</td>\n",
       "    </tr>\n",
       "    <tr>\n",
       "      <th>11</th>\n",
       "      <td>OP</td>\n",
       "      <td>6.0</td>\n",
       "      <td>500000.0</td>\n",
       "      <td>500000.0</td>\n",
       "      <td>NaN</td>\n",
       "      <td>500000.0</td>\n",
       "    </tr>\n",
       "  </tbody>\n",
       "</table>\n",
       "</div>"
      ],
      "text/plain": [
       "   job_title  occupation  quota_origin  quota_now  quota_origin_elec  \\\n",
       "0      維護工程師        21.0     1000000.0   500000.0                NaN   \n",
       "6        工程師        21.0      100000.0   100000.0                NaN   \n",
       "9      高級工程師         2.0      500000.0   500000.0                NaN   \n",
       "10        主任         8.0      200000.0   200000.0                NaN   \n",
       "11        OP         6.0      500000.0   500000.0                NaN   \n",
       "\n",
       "    quota_now_elec  \n",
       "0              NaN  \n",
       "6         100000.0  \n",
       "9         500000.0  \n",
       "10        200000.0  \n",
       "11        500000.0  "
      ]
     },
     "metadata": {},
     "output_type": "display_data"
    },
    {
     "data": {
      "text/html": [
       "<div>\n",
       "<style scoped>\n",
       "    .dataframe tbody tr th:only-of-type {\n",
       "        vertical-align: middle;\n",
       "    }\n",
       "\n",
       "    .dataframe tbody tr th {\n",
       "        vertical-align: top;\n",
       "    }\n",
       "\n",
       "    .dataframe thead th {\n",
       "        text-align: right;\n",
       "    }\n",
       "</style>\n",
       "<table border=\"1\" class=\"dataframe\">\n",
       "  <thead>\n",
       "    <tr style=\"text-align: right;\">\n",
       "      <th></th>\n",
       "      <th>各業受僱員工(總薪資)(109年7月)(單位：元)</th>\n",
       "      <th>Unnamed: 1</th>\n",
       "      <th>Unnamed: 2</th>\n",
       "      <th>Unnamed: 3</th>\n",
       "      <th>Unnamed: 4</th>\n",
       "      <th>Unnamed: 5</th>\n",
       "      <th>Unnamed: 6</th>\n",
       "      <th>Unnamed: 7</th>\n",
       "      <th>Unnamed: 8</th>\n",
       "      <th>Unnamed: 9</th>\n",
       "      <th>...</th>\n",
       "      <th>Unnamed: 106</th>\n",
       "      <th>Unnamed: 107</th>\n",
       "      <th>Unnamed: 108</th>\n",
       "      <th>Unnamed: 109</th>\n",
       "      <th>Unnamed: 110</th>\n",
       "      <th>Unnamed: 111</th>\n",
       "      <th>Unnamed: 112</th>\n",
       "      <th>Unnamed: 113</th>\n",
       "      <th>Unnamed: 114</th>\n",
       "      <th>Unnamed: 115</th>\n",
       "    </tr>\n",
       "  </thead>\n",
       "  <tbody>\n",
       "    <tr>\n",
       "      <th>0</th>\n",
       "      <td>NaN</td>\n",
       "      <td>工業及服務業</td>\n",
       "      <td>工業</td>\n",
       "      <td>礦業及土石採取業</td>\n",
       "      <td>石油及天然氣礦業</td>\n",
       "      <td>砂、石採取及其他礦業</td>\n",
       "      <td>製造業</td>\n",
       "      <td>食品及飼品製造業</td>\n",
       "      <td>飲料及菸草製造業</td>\n",
       "      <td>紡織業</td>\n",
       "      <td>...</td>\n",
       "      <td>醫療保健及社會工作服務業</td>\n",
       "      <td>醫療保健業</td>\n",
       "      <td>社會工作服務業</td>\n",
       "      <td>藝術、娛樂及休閒服務業</td>\n",
       "      <td>創作及藝術表演業</td>\n",
       "      <td>運動、娛樂及休閒服務業</td>\n",
       "      <td>其他服務業</td>\n",
       "      <td>個人及家庭用品維修業</td>\n",
       "      <td>美髮及美容美體業</td>\n",
       "      <td>其他個人服務業</td>\n",
       "    </tr>\n",
       "    <tr>\n",
       "      <th>1</th>\n",
       "      <td>NaN</td>\n",
       "      <td>總薪資</td>\n",
       "      <td>總薪資</td>\n",
       "      <td>總薪資</td>\n",
       "      <td>總薪資</td>\n",
       "      <td>總薪資</td>\n",
       "      <td>總薪資</td>\n",
       "      <td>總薪資</td>\n",
       "      <td>總薪資</td>\n",
       "      <td>總薪資</td>\n",
       "      <td>...</td>\n",
       "      <td>總薪資</td>\n",
       "      <td>總薪資</td>\n",
       "      <td>總薪資</td>\n",
       "      <td>總薪資</td>\n",
       "      <td>總薪資</td>\n",
       "      <td>總薪資</td>\n",
       "      <td>總薪資</td>\n",
       "      <td>總薪資</td>\n",
       "      <td>總薪資</td>\n",
       "      <td>總薪資</td>\n",
       "    </tr>\n",
       "    <tr>\n",
       "      <th>2</th>\n",
       "      <td>(888800)總計</td>\n",
       "      <td>55,042</td>\n",
       "      <td>57,522</td>\n",
       "      <td>106,642</td>\n",
       "      <td>212,658</td>\n",
       "      <td>38,812</td>\n",
       "      <td>57,709</td>\n",
       "      <td>41,661</td>\n",
       "      <td>65,156</td>\n",
       "      <td>36,475</td>\n",
       "      <td>...</td>\n",
       "      <td>59,250</td>\n",
       "      <td>63,240</td>\n",
       "      <td>30,604</td>\n",
       "      <td>38,317</td>\n",
       "      <td>39,836</td>\n",
       "      <td>38,054</td>\n",
       "      <td>33,925</td>\n",
       "      <td>36,532</td>\n",
       "      <td>29,349</td>\n",
       "      <td>36,372</td>\n",
       "    </tr>\n",
       "    <tr>\n",
       "      <th>3</th>\n",
       "      <td>(100000)主管及監督人員</td>\n",
       "      <td>105,985</td>\n",
       "      <td>128,276</td>\n",
       "      <td>205,785</td>\n",
       "      <td>388,688</td>\n",
       "      <td>89,800</td>\n",
       "      <td>129,663</td>\n",
       "      <td>82,520</td>\n",
       "      <td>109,598</td>\n",
       "      <td>67,269</td>\n",
       "      <td>...</td>\n",
       "      <td>114,097</td>\n",
       "      <td>125,193</td>\n",
       "      <td>47,265</td>\n",
       "      <td>75,026</td>\n",
       "      <td>93,607</td>\n",
       "      <td>71,689</td>\n",
       "      <td>58,622</td>\n",
       "      <td>59,818</td>\n",
       "      <td>50,534</td>\n",
       "      <td>64,484</td>\n",
       "    </tr>\n",
       "    <tr>\n",
       "      <th>4</th>\n",
       "      <td>(112000)高階主管(總經理及總執行長)</td>\n",
       "      <td>212,514</td>\n",
       "      <td>261,443</td>\n",
       "      <td>193,432</td>\n",
       "      <td>372,613</td>\n",
       "      <td>85,923</td>\n",
       "      <td>271,264</td>\n",
       "      <td>135,876</td>\n",
       "      <td>151,912</td>\n",
       "      <td>131,955</td>\n",
       "      <td>...</td>\n",
       "      <td>232,391</td>\n",
       "      <td>250,713</td>\n",
       "      <td>79,755</td>\n",
       "      <td>148,416</td>\n",
       "      <td>225,490</td>\n",
       "      <td>133,831</td>\n",
       "      <td>161,614</td>\n",
       "      <td>148,014</td>\n",
       "      <td>188,286</td>\n",
       "      <td>171,692</td>\n",
       "    </tr>\n",
       "  </tbody>\n",
       "</table>\n",
       "<p>5 rows × 116 columns</p>\n",
       "</div>"
      ],
      "text/plain": [
       "  各業受僱員工(總薪資)(109年7月)(單位：元) Unnamed: 1 Unnamed: 2 Unnamed: 3 Unnamed: 4  \\\n",
       "0                       NaN     工業及服務業         工業   礦業及土石採取業   石油及天然氣礦業   \n",
       "1                       NaN        總薪資        總薪資        總薪資        總薪資   \n",
       "2                (888800)總計     55,042     57,522    106,642    212,658   \n",
       "3           (100000)主管及監督人員    105,985    128,276    205,785    388,688   \n",
       "4  　　(112000)高階主管(總經理及總執行長)    212,514    261,443    193,432    372,613   \n",
       "\n",
       "   Unnamed: 5 Unnamed: 6 Unnamed: 7 Unnamed: 8 Unnamed: 9  ...  Unnamed: 106  \\\n",
       "0  砂、石採取及其他礦業        製造業   食品及飼品製造業   飲料及菸草製造業        紡織業  ...  醫療保健及社會工作服務業   \n",
       "1         總薪資        總薪資        總薪資        總薪資        總薪資  ...           總薪資   \n",
       "2      38,812     57,709     41,661     65,156     36,475  ...        59,250   \n",
       "3      89,800    129,663     82,520    109,598     67,269  ...       114,097   \n",
       "4      85,923    271,264    135,876    151,912    131,955  ...       232,391   \n",
       "\n",
       "  Unnamed: 107 Unnamed: 108 Unnamed: 109 Unnamed: 110 Unnamed: 111  \\\n",
       "0        醫療保健業      社會工作服務業  藝術、娛樂及休閒服務業     創作及藝術表演業  運動、娛樂及休閒服務業   \n",
       "1          總薪資          總薪資          總薪資          總薪資          總薪資   \n",
       "2       63,240       30,604       38,317       39,836       38,054   \n",
       "3      125,193       47,265       75,026       93,607       71,689   \n",
       "4      250,713       79,755      148,416      225,490      133,831   \n",
       "\n",
       "  Unnamed: 112 Unnamed: 113 Unnamed: 114 Unnamed: 115  \n",
       "0        其他服務業   個人及家庭用品維修業     美髮及美容美體業      其他個人服務業  \n",
       "1          總薪資          總薪資          總薪資          總薪資  \n",
       "2       33,925       36,532       29,349       36,372  \n",
       "3       58,622       59,818       50,534       64,484  \n",
       "4      161,614      148,014      188,286      171,692  \n",
       "\n",
       "[5 rows x 116 columns]"
      ]
     },
     "metadata": {},
     "output_type": "display_data"
    }
   ],
   "source": [
    "# 玉山資料\n",
    "yushan = pd.read_csv('./data/job.csv')\n",
    "yushan['job_title'] = yushan['job_title'].apply(lambda x: str(x).strip())\n",
    "yushan = yushan[yushan['quota_now']<1e6]\n",
    "display(yushan.head())\n",
    "\n",
    "# 勞動部資料\n",
    "gov = pd.read_excel('./data/psdnquery1.xlsx')\n",
    "display(gov.head())"
   ]
  },
  {
   "cell_type": "code",
   "execution_count": 69,
   "metadata": {},
   "outputs": [],
   "source": [
    "def f(a, b):\n",
    "    if math.isnan(b):\n",
    "        return a\n",
    "    else:\n",
    "        return min(a, b)"
   ]
  },
  {
   "cell_type": "code",
   "execution_count": 50,
   "metadata": {},
   "outputs": [
    {
     "name": "stdout",
     "output_type": "stream",
     "text": [
      "['無', '無', '總計', '主管及監督人員', '高階主管總經理及總執行長', '中階主管經理', '監督人員含現場及辦公室主任科股長', '專業人員', '物理化學及地球科學專業人員', '精算師取得正式資格者']\n"
     ]
    }
   ],
   "source": [
    "# 各職業平均薪水\n",
    "raw_salary = gov['各業受僱員工(總薪資)(109年7月)(單位：元)'].values\n",
    "salary_list = []\n",
    "for x in raw_salary:\n",
    "    x = str(x)\n",
    "    x = re.sub(r'[^\\w]', '', x)\n",
    "    x = re.compile(u'[\\u4E00-\\u9FA5|\\s]').findall(x)\n",
    "    x = \"\".join(x)\n",
    "    if x:\n",
    "        salary_list.append(x)\n",
    "    else:\n",
    "        salary_list.append('無')\n",
    "        \n",
    "print(salary_list[:10])"
   ]
  },
  {
   "cell_type": "code",
   "execution_count": 51,
   "metadata": {},
   "outputs": [],
   "source": [
    "# 產業\n",
    "occupation_dict = {\n",
    "    1: \"營造／礦砂業\",\n",
    "    2: \"製造業\",\n",
    "    3: \"水電燃氣業\",\n",
    "    4: \"批發／零售／貿易商\",\n",
    "    5: \"旅宿／餐飲\",\n",
    "    6: \"運輸倉儲\",\n",
    "    7: \"農／林／漁／牧\",\n",
    "    8: \"金融保險\",\n",
    "    9: \"不動產／租賃\",\n",
    "    10: \"軍／警／消\",\n",
    "    11: \"公務人員\",\n",
    "    12: \"律師／會計師／地政士\",\n",
    "    13: \"醫藥服務\",\n",
    "    14: \"休閒服務\",\n",
    "    15: \"其他／家管\",\n",
    "    16: \"自由業\",\n",
    "    17: \"投資／自營商\",\n",
    "    18: \"媒體文教\",\n",
    "    19: \"學生\",\n",
    "    20: \"學校教師（含行政人員）\",\n",
    "    21: \"資訊科技\",\n",
    "    22: \"公證人或記帳士\",\n",
    "    23: \"國防工業\",\n",
    "    24: \"投資或稅務顧問公司\",\n",
    "    25: \"不動產仲介／代銷商\",\n",
    "    26: \"大宗物資貿易商\",\n",
    "    27: \"博弈業（網路／實體）\",\n",
    "    28: \"八大特種行業\",\n",
    "    29: \"宗教、慈善、基金會\",\n",
    "    30: \"銀樓、珠寶商\",\n",
    "    31: \"藝術品或古董買賣商\",\n",
    "    32: \"當鋪\",\n",
    "    33: \"實體或虛擬貨幣兌換所\"\n",
    "}"
   ]
  },
  {
   "cell_type": "code",
   "execution_count": 52,
   "metadata": {},
   "outputs": [
    {
     "data": {
      "text/plain": [
       "array(['維護工程師', '工程師', '高級工程師', '主任', 'OP', '行政助理', '專案經理', '學生', '護理師',\n",
       "       '兼職'], dtype=object)"
      ]
     },
     "execution_count": 52,
     "metadata": {},
     "output_type": "execute_result"
    }
   ],
   "source": [
    "job_list = yushan['job_title'].values\n",
    "job_list[:10]\n"
   ]
  },
  {
   "cell_type": "code",
   "execution_count": 53,
   "metadata": {},
   "outputs": [],
   "source": [
    "def get_features(job_title, statistics=None):\n",
    "    \n",
    "    assert statistics is not None\n",
    "    \n",
    "    global salary_list\n",
    "    global gov\n",
    "    \n",
    "    if job_title == '無':\n",
    "        return 0\n",
    "    if job_title is None:\n",
    "        return 0\n",
    "    \n",
    "    score_list = []\n",
    "    for x in salary_list[2:]:\n",
    "        score_list.append(nltk.edit_distance(list(job_title), list(x)))\n",
    "    idx_list = np.argsort(score_list)\n",
    "    \n",
    "    subidx = 0\n",
    "    while True:\n",
    "        res = []    \n",
    "        for x in gov.iloc[idx_list[subidx], :].values:\n",
    "            if isinstance(x, str):\n",
    "                x = x.replace(',', '')\n",
    "                if x.isdigit():\n",
    "                    res.append(int(x))\n",
    "        if len(res) > 0:\n",
    "            if statistics == 'mean':\n",
    "                return np.mean(res)\n",
    "            if statistics == 'median':\n",
    "                return np.median(res)\n",
    "            if statistics == 'std':\n",
    "                return np.std(res)\n",
    "        subidx += 1"
   ]
  },
  {
   "cell_type": "code",
   "execution_count": 12,
   "metadata": {},
   "outputs": [],
   "source": [
    "# activate me if necessary\n",
    "\n",
    "# from tqdm import tqdm\n",
    "# salary_median = []\n",
    "# for x in tqdm(yushan['job_title']):\n",
    "#     salary_median.append(get_features(x, 'std')) # choose your statistics here\n",
    "    \n",
    "# print(len(yushan['job_title']))\n",
    "# print(sum(np.array(salary_median) == 0))\n",
    "# yushan['salary_std'] = salary_median\n",
    "# yushan.to_csv('./data/job_extened.csv', index=None)"
   ]
  },
  {
   "cell_type": "markdown",
   "metadata": {},
   "source": [
    "# Exploration"
   ]
  },
  {
   "cell_type": "code",
   "execution_count": 71,
   "metadata": {},
   "outputs": [],
   "source": [
    "yushan = pd.read_csv('./data/job_extened.csv')\n",
    "yushan = yushan[yushan['quota_now']<=1e6]\n",
    "yushan['y_num'] = yushan[['quota_now', 'quota_now_elec']].apply(lambda x: f(*x), axis=1)"
   ]
  },
  {
   "cell_type": "code",
   "execution_count": 72,
   "metadata": {},
   "outputs": [
    {
     "data": {
      "image/png": "[encoded data removed]",
      "text/plain": [
       "<Figure size 720x576 with 2 Axes>"
      ]
     },
     "metadata": {
      "needs_background": "light"
     },
     "output_type": "display_data"
    }
   ],
   "source": [
    "mini_yushan = yushan.dropna()\n",
    "mini_yushan = mini_yushan.loc[(mini_yushan != 0).all(axis=1)]\n",
    "# mini_yushan = mini_yushan[mini_yushan['occupation']==6.0]\n",
    "\n",
    "corr = mini_yushan.corr('pearson')\n",
    "f = plt.figure(figsize=(10, 8))\n",
    "plt.matshow(mini_yushan.corr(), fignum=f.number)\n",
    "plt.xticks(range(mini_yushan.select_dtypes(['number']).shape[1]), mini_yushan.select_dtypes(['number']).columns, fontsize=14, rotation=45)\n",
    "plt.yticks(range(mini_yushan.select_dtypes(['number']).shape[1]), mini_yushan.select_dtypes(['number']).columns, fontsize=14)\n",
    "cb = plt.colorbar()\n",
    "cb.ax.tick_params(labelsize=10)\n",
    "plt.title('Correlation Matrix', fontsize=10)\n",
    "plt.show()\n",
    "plt.close()"
   ]
  },
  {
   "cell_type": "code",
   "execution_count": 78,
   "metadata": {},
   "outputs": [],
   "source": [
    "def to_class(x):\n",
    "    if x < 5e4:\n",
    "        return 0\n",
    "    if 5e4 <= x and x < 15e4:\n",
    "        return 1\n",
    "    if 5e4 <= x and x < 15e4:\n",
    "        return 2\n",
    "    if 15e4 <= x and x < 25e4:\n",
    "        return 3\n",
    "    if 25e4 <= x and x < 35e4:\n",
    "        return 4\n",
    "    if 35e4 <= x and x < 45e4:\n",
    "        return 5\n",
    "    if 45e4 <= x and x < 55e4:\n",
    "        return 6\n",
    "    if 55e4 <= x and x < 65e4:\n",
    "        return 7\n",
    "    if 65e4 <= x and x < 75e4:\n",
    "        return 8\n",
    "    if 75e4 <= x and x < 85e4:\n",
    "        return 9\n",
    "    else:\n",
    "        return 10\n",
    "    \n",
    "yushan['y_cat'] = yushan['y_num'].apply(lambda x: to_class(x))"
   ]
  },
  {
   "cell_type": "code",
   "execution_count": 131,
   "metadata": {},
   "outputs": [],
   "source": [
    "from sklearn.model_selection import train_test_split\n",
    "yushan = yushan.dropna()\n",
    "X=yushan[['occupation', 'salary_median', 'salary_mean', 'salary_std']] # Features\n",
    "y=yushan['y_cat']  # Labels"
   ]
  },
  {
   "cell_type": "code",
   "execution_count": 130,
   "metadata": {},
   "outputs": [
    {
     "name": "stdout",
     "output_type": "stream",
     "text": [
      "Accuracy: 0.5857775318206973\n"
     ]
    }
   ],
   "source": [
    "X_train, X_test, y_train, y_test = train_test_split(X, y, test_size=0.3) # 70% training and 30% test\n",
    "from sklearn.ensemble import RandomForestClassifier\n",
    "clf=RandomForestClassifier(n_estimators=100)\n",
    "clf.fit(X_train,y_train)\n",
    "y_pred=clf.predict(X_test)\n",
    "\n",
    "from sklearn import metrics\n",
    "print(\"Accuracy:\",metrics.accuracy_score(y_test, y_pred))"
   ]
  },
  {
   "cell_type": "code",
   "execution_count": 136,
   "metadata": {},
   "outputs": [
    {
     "data": {
      "text/plain": [
       "(array([ 1154., 15043.,     0.,  1953.,  1935.,   158.,  2323.,   202.,\n",
       "           87.,  2440.]),\n",
       " array([ 0.,  1.,  2.,  3.,  4.,  5.,  6.,  7.,  8.,  9., 10.]),\n",
       " <BarContainer object of 10 artists>)"
      ]
     },
     "execution_count": 136,
     "metadata": {},
     "output_type": "execute_result"
    },
    {
     "data": {
      "image/png": "[encoded data removed]",
      "text/plain": [
       "<Figure size 432x288 with 1 Axes>"
      ]
     },
     "metadata": {
      "needs_background": "light"
     },
     "output_type": "display_data"
    }
   ],
   "source": [
    "plt.hist(y_train)"
   ]
  }
 ],
 "metadata": {
  "kernelspec": {
   "display_name": "Python 3.9.10 ('datasci')",
   "language": "python",
   "name": "python3"
  },
  "language_info": {
   "codemirror_mode": {
    "name": "ipython",
    "version": 3
   },
   "file_extension": ".py",
   "mimetype": "text/x-python",
   "name": "python",
   "nbconvert_exporter": "python",
   "pygments_lexer": "ipython3",
   "version": "3.9.10"
  },
  "orig_nbformat": 4,
  "vscode": {
   "interpreter": {
    "hash": "1da21c89092eece9fe5297238de6da498e726c09207fefdb20ff4a51995bdc2e"
   }
  }
 },
 "nbformat": 4,
 "nbformat_minor": 2
}
