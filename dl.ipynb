{
 "cells": [
  {
   "cell_type": "markdown",
   "metadata": {},
   "source": [
    "# 設定"
   ]
  },
  {
   "cell_type": "code",
   "execution_count": 2,
   "metadata": {},
   "outputs": [
    {
     "ename": "ModuleNotFoundError",
     "evalue": "No module named 'torch'",
     "output_type": "error",
     "traceback": [
      "\u001b[0;31m---------------------------------------------------------------------------\u001b[0m",
      "\u001b[0;31mModuleNotFoundError\u001b[0m                       Traceback (most recent call last)",
      "\u001b[1;32m/Users/jack/Desktop/fintech/dl.ipynb Cell 2'\u001b[0m in \u001b[0;36m<cell line: 12>\u001b[0;34m()\u001b[0m\n\u001b[1;32m      <a href='vscode-notebook-cell:/Users/jack/Desktop/fintech/dl.ipynb#ch0000001?line=8'>9</a>\u001b[0m \u001b[39m# progress bar\u001b[39;00m\n\u001b[1;32m     <a href='vscode-notebook-cell:/Users/jack/Desktop/fintech/dl.ipynb#ch0000001?line=9'>10</a>\u001b[0m \u001b[39mfrom\u001b[39;00m \u001b[39mtqdm\u001b[39;00m \u001b[39mimport\u001b[39;00m tqdm\n\u001b[0;32m---> <a href='vscode-notebook-cell:/Users/jack/Desktop/fintech/dl.ipynb#ch0000001?line=11'>12</a>\u001b[0m \u001b[39mimport\u001b[39;00m \u001b[39mtorch\u001b[39;00m \n\u001b[1;32m     <a href='vscode-notebook-cell:/Users/jack/Desktop/fintech/dl.ipynb#ch0000001?line=12'>13</a>\u001b[0m \u001b[39mimport\u001b[39;00m \u001b[39mtorch\u001b[39;00m\u001b[39m.\u001b[39;00m\u001b[39mnn\u001b[39;00m \u001b[39mas\u001b[39;00m \u001b[39mnn\u001b[39;00m\n\u001b[1;32m     <a href='vscode-notebook-cell:/Users/jack/Desktop/fintech/dl.ipynb#ch0000001?line=13'>14</a>\u001b[0m \u001b[39mfrom\u001b[39;00m \u001b[39mtorch\u001b[39;00m\u001b[39m.\u001b[39;00m\u001b[39mutils\u001b[39;00m\u001b[39m.\u001b[39;00m\u001b[39mdata\u001b[39;00m \u001b[39mimport\u001b[39;00m Dataset, DataLoader, random_split\n",
      "\u001b[0;31mModuleNotFoundError\u001b[0m: No module named 'torch'"
     ]
    }
   ],
   "source": [
    "import math\n",
    "import numpy as np\n",
    "import pandas as pd\n",
    "from scipy import stats\n",
    "\n",
    "import os\n",
    "import csv\n",
    "\n",
    "# progress bar\n",
    "from tqdm import tqdm\n",
    "\n",
    "import torch \n",
    "import torch.nn as nn\n",
    "from torch.utils.data import Dataset, DataLoader, random_split\n",
    "\n",
    "from tabulate import tabulate\n",
    "import time\n",
    "\n",
    "# for plotting learning curve\n",
    "from torch.utils.tensorboard import SummaryWriter\n",
    "\n",
    "# %reload_ext tensorboard\n",
    "# %tensorboard --logdir=./runs/\n",
    "\n",
    "from sklearn.model_selection import train_test_split"
   ]
  },
  {
   "cell_type": "code",
   "execution_count": 5,
   "metadata": {},
   "outputs": [],
   "source": [
    "def same_seed(seed): \n",
    "    '''Fixes random number generator seeds for reproducibility.'''\n",
    "    torch.backends.cudnn.deterministic = True\n",
    "    torch.backends.cudnn.benchmark = False\n",
    "    np.random.seed(seed)\n",
    "    torch.manual_seed(seed)\n",
    "    if torch.cuda.is_available():\n",
    "        torch.cuda.manual_seed_all(seed)"
   ]
  },
  {
   "cell_type": "code",
   "execution_count": 6,
   "metadata": {},
   "outputs": [],
   "source": [
    "def train_valid_split(data_set, valid_ratio, seed):\n",
    "    '''Split provided training data into training set and validation set'''\n",
    "    valid_set_size = int(valid_ratio * len(data_set)) \n",
    "    train_set_size = len(data_set) - valid_set_size\n",
    "    train_set, valid_set = random_split(data_set, [train_set_size, valid_set_size], generator=torch.Generator().manual_seed(seed))\n",
    "    return np.array(train_set), np.array(valid_set)"
   ]
  },
  {
   "cell_type": "code",
   "execution_count": 21,
   "metadata": {},
   "outputs": [],
   "source": [
    "# gpu\n",
    "device = 'cuda' if torch.cuda.is_available() else 'cpu'\n",
    "\n",
    "# configuration\n",
    "config = {\n",
    "    'seed': 0,\n",
    "    'select_all': True,\n",
    "    'valid_ratio': 0.2,\n",
    "    'n_epochs': 1000,\n",
    "    'batch_size': 256,\n",
    "    # 'batch_size': 32, \n",
    "    'learning_rate': 1e-5,\n",
    "    'early_stop': 400,\n",
    "    'save_path': './models/model.ckpt'\n",
    "}\n",
    "\n",
    "# create directory of saving models\n",
    "if not os.path.isdir('./models'):\n",
    "    os.mkdir('./models') \n",
    "\n",
    "# set seed for reproducibility\n",
    "same_seed(config['seed'])"
   ]
  },
  {
   "cell_type": "markdown",
   "metadata": {},
   "source": [
    "# 資料"
   ]
  },
  {
   "cell_type": "code",
   "execution_count": 8,
   "metadata": {},
   "outputs": [],
   "source": [
    "def select_feat(train_data, valid_data, select_all=True):\n",
    "    '''Selects useful features to perform regression'''\n",
    "    y_train, y_valid = train_data[:,-1], valid_data[:,-1]\n",
    "    raw_x_train, raw_x_valid, raw_x_test = train_data[:,:-1], valid_data[:,:-1], test_data\n",
    "\n",
    "    if select_all:\n",
    "        feat_idx = list(range(raw_x_train.shape[1]))\n",
    "    else:\n",
    "        # TODO: Select suitable feature columns.\n",
    "        feat_idx = [0,1,2,3,4] \n",
    "        \n",
    "    return raw_x_train[:,feat_idx], raw_x_valid[:,feat_idx], raw_x_test[:,feat_idx], y_train, y_valid"
   ]
  },
  {
   "cell_type": "code",
   "execution_count": 9,
   "metadata": {},
   "outputs": [],
   "source": [
    "selected_columns = [\n",
    "    # yes/no\n",
    "    # 'sex',\n",
    "    'isReject',\n",
    "    # 'hasOtherComAccount',\n",
    "\n",
    "    # categorical\n",
    "    # 'bid',\n",
    "    # 'source',\n",
    "    'occupation',\n",
    "    # 'company',\n",
    "    # 'eduLevel',\n",
    "\n",
    "    # numerical-like\n",
    "    'expInvestment', \n",
    "    'yrsInvestment', \n",
    "    'frqInvestment',\n",
    "    'srcCapital',\n",
    "    'quotaCredit',\n",
    "    'incomeYear',\n",
    "    'totalWealth',\n",
    "    \n",
    "    'quota_now'\n",
    "]\n",
    "\n",
    "# 根據一些條件刪掉一些row\n",
    "data = pd.read_csv('./ooa_data.csv')[selected_columns].dropna()\n",
    "data = data[data['quota_now']>0]\n",
    "data = data[data['quota_now']<=1000000]\n",
    "data = data[data['isReject']==0]\n",
    "# data = data[data['occupation']==20]\n",
    "data = data.drop('isReject', axis=1)\n",
    "data['quota_now'] /= 1e4\n",
    "\n",
    "# 除去outlier\n",
    "data = data[(np.abs(stats.zscore(data['quota_now'].values)) < 2)]"
   ]
  },
  {
   "cell_type": "code",
   "execution_count": 11,
   "metadata": {},
   "outputs": [],
   "source": [
    "X = data.iloc[:, :-1].values\n",
    "Y = data.iloc[:, -1].values\n",
    "X_train, X_valid, Y_train, Y_valid = train_test_split(X, Y, test_size=config['valid_ratio'])\n",
    "\n",
    "# TODO feature selection"
   ]
  },
  {
   "cell_type": "code",
   "execution_count": 12,
   "metadata": {},
   "outputs": [],
   "source": [
    "class Quota_dataset(Dataset):\n",
    "    def __init__(self, x, y):\n",
    "        self.x = torch.FloatTensor(x)\n",
    "        self.y = torch.FloatTensor(y)\n",
    "\n",
    "    def __getitem__(self, idx):\n",
    "        return self.x[idx], self.y[idx]\n",
    "\n",
    "    def __len__(self):\n",
    "        return len(self.x)"
   ]
  },
  {
   "cell_type": "code",
   "execution_count": 13,
   "metadata": {},
   "outputs": [
    {
     "name": "stdout",
     "output_type": "stream",
     "text": [
      "╒══════════════╤═════════════╕\n",
      "│ train_data   │ (102516, 8) │\n",
      "├──────────────┼─────────────┤\n",
      "│ valid_data   │ (25630, 8)  │\n",
      "├──────────────┼─────────────┤\n",
      "│ num features │ 8           │\n",
      "╘══════════════╧═════════════╛\n"
     ]
    }
   ],
   "source": [
    "train_dataset = Quota_dataset(X_train, Y_train)\n",
    "valid_dataset = Quota_dataset(X_valid, Y_valid)\n",
    "\n",
    "train_loader = DataLoader(train_dataset, batch_size=config['batch_size'], shuffle=True, pin_memory=True)\n",
    "valid_loader = DataLoader(valid_dataset, batch_size=config['batch_size'], shuffle=True, pin_memory=True)\n",
    "\n",
    "table = [\n",
    "    ['train_data', X_train.shape],\n",
    "    ['valid_data', X_valid.shape],\n",
    "    ['num features', X_train.shape[1]]\n",
    "]\n",
    "print(tabulate(table, tablefmt=\"fancy_grid\"))"
   ]
  },
  {
   "cell_type": "markdown",
   "metadata": {},
   "source": [
    "# 模型"
   ]
  },
  {
   "cell_type": "code",
   "execution_count": 16,
   "metadata": {},
   "outputs": [],
   "source": [
    "class My_Model(nn.Module):\n",
    "    def __init__(self, input_dim):\n",
    "        super(My_Model, self).__init__()\n",
    "        # TODO modify model's structure\n",
    "        self.layers = nn.Sequential(\n",
    "            nn.Linear(input_dim, 16),\n",
    "            nn.ReLU(),\n",
    "\n",
    "            nn.Linear(16, 128),\n",
    "            nn.ReLU(),\n",
    "\n",
    "            nn.Linear(128, 512),\n",
    "            nn.ReLU(),\n",
    "\n",
    "            nn.Linear(512, 128),\n",
    "            nn.ReLU(),\n",
    "            \n",
    "            nn.Linear(128, 1)\n",
    "        )\n",
    "\n",
    "    def forward(self, x):\n",
    "        x = self.layers(x)\n",
    "        x = x.squeeze(1)\n",
    "        return x"
   ]
  },
  {
   "cell_type": "markdown",
   "metadata": {},
   "source": [
    "# 訓練"
   ]
  },
  {
   "cell_type": "code",
   "execution_count": 22,
   "metadata": {},
   "outputs": [],
   "source": [
    "def trainer(train_loader, valid_loader, model, config, device):\n",
    "\n",
    "    criterion = nn.MSELoss(reduction='mean')\n",
    "\n",
    "    # TODO L2 regularization\n",
    "    # TODO different optimizer\n",
    "    # TODO weight decay\n",
    "    \n",
    "    optimizer = torch.optim.SGD(model.parameters(), lr=config['learning_rate'], momentum=0.9) \n",
    "\n",
    "    now = time.strftime(\"%y%m%d-%H%M%S\", time.localtime())\n",
    "    writer = SummaryWriter(log_dir=f'./runs/{now}')\n",
    "\n",
    "    n_epochs, best_loss, step, early_stop_count = config['n_epochs'], math.inf, 0, 0\n",
    "\n",
    "    train_pbar = tqdm(range(n_epochs), position=0, leave=True)\n",
    "    \n",
    "    for epoch in train_pbar:\n",
    "\n",
    "        # ---------------------------------------------------------------------------- #\n",
    "        #                              ONE EPOCH TRAINING                              #\n",
    "        # ---------------------------------------------------------------------------- #\n",
    "        \n",
    "        model.train()\n",
    "        loss_record = []\n",
    "        n_train = 0\n",
    "        for x, y in train_loader:\n",
    "            optimizer.zero_grad()\n",
    "            x, y = x.to(device), y.to(device)\n",
    "            pred = model(x)\n",
    "            loss = criterion(pred, y)\n",
    "            loss.backward()\n",
    "            optimizer.step()\n",
    "            step += 1\n",
    "            loss_record.append(loss.detach().item())\n",
    "            n_train += len(y)\n",
    "        mean_train_loss = sum(loss_record)/n_train\n",
    "        \n",
    "        # ---------------------------------------------------------------------------- #\n",
    "        #                             ONE EPOCH VALIDATION                             #\n",
    "        # ---------------------------------------------------------------------------- #\n",
    "        \n",
    "        model.eval()\n",
    "        loss_record = []\n",
    "        n_valid = 0\n",
    "        for x, y in valid_loader:\n",
    "            x, y = x.to(device), y.to(device)\n",
    "            with torch.no_grad():\n",
    "                pred = model(x)\n",
    "                loss = criterion(pred, y)\n",
    "            loss_record.append(loss.item())\n",
    "            n_valid += len(y)\n",
    "        mean_valid_loss = sum(loss_record)/n_valid\n",
    "\n",
    "        # ---------------------------------------------------------------------------- #\n",
    "        #                               ONE EPOCH SUMMARY                              #\n",
    "        # ---------------------------------------------------------------------------- #\n",
    "\n",
    "        train_pbar.set_description(f'Epoch [{epoch+1}/{n_epochs}]')\n",
    "        train_pbar.set_postfix({\n",
    "            'TL': mean_train_loss,\n",
    "            'VL': mean_valid_loss,\n",
    "            'BL': best_loss,\n",
    "        })\n",
    "        writer.add_scalars(\"Loss\", {'train': mean_train_loss, 'valid': mean_valid_loss}, step)\n",
    "\n",
    "        # ---------------------------------------------------------------------------- #\n",
    "        #                               ONE EPOCH SAVING                               #\n",
    "        # ---------------------------------------------------------------------------- #\n",
    "\n",
    "        if mean_valid_loss < best_loss:\n",
    "            best_loss = mean_valid_loss\n",
    "            torch.save(model.state_dict(), config['save_path'])\n",
    "            early_stop_count = 0\n",
    "        else: \n",
    "            early_stop_count += 1\n",
    "        if early_stop_count >= config['early_stop']:\n",
    "            print('Model is not improving, so we halt the training session.')\n",
    "            return"
   ]
  },
  {
   "cell_type": "code",
   "execution_count": 23,
   "metadata": {},
   "outputs": [
    {
     "name": "stderr",
     "output_type": "stream",
     "text": [
      "Epoch [970/1000]:  97%|█████████▋| 969/1000 [28:59<00:55,  1.80s/it, TL=4.97, VL=5.39, BL=5.23]"
     ]
    },
    {
     "name": "stdout",
     "output_type": "stream",
     "text": [
      "Model is not improving, so we halt the training session.\n"
     ]
    },
    {
     "name": "stderr",
     "output_type": "stream",
     "text": [
      "\n"
     ]
    }
   ],
   "source": [
    "model = My_Model(input_dim=X_train.shape[1]).to(device)\n",
    "\n",
    "trainer(train_loader, valid_loader, model, config, device)"
   ]
  },
  {
   "cell_type": "markdown",
   "metadata": {},
   "source": [
    "# 預測"
   ]
  },
  {
   "cell_type": "code",
   "execution_count": null,
   "metadata": {},
   "outputs": [],
   "source": [
    "def predict(test_loader, model, device):\n",
    "    model.eval()\n",
    "    preds = []\n",
    "    for x in tqdm(test_loader):\n",
    "        x = x.to(device)                        \n",
    "        with torch.no_grad():                   \n",
    "            pred = model(x)                     \n",
    "            preds.append(pred.detach().cpu())   \n",
    "    preds = torch.cat(preds, dim=0).numpy()  \n",
    "    return preds"
   ]
  },
  {
   "cell_type": "code",
   "execution_count": null,
   "metadata": {},
   "outputs": [],
   "source": [
    "def save_pred(preds, file):\n",
    "    ''' Save predictions to specified file '''\n",
    "    with open(file, 'w') as fp:\n",
    "        writer = csv.writer(fp)\n",
    "        writer.writerow(['id', 'tested_positive'])\n",
    "        for i, p in enumerate(preds):\n",
    "            writer.writerow([i, p])\n",
    "\n",
    "model = My_Model(input_dim=x_train.shape[1]).to(device)\n",
    "model.load_state_dict(torch.load(config['save_path']))\n",
    "preds = predict(test_loader, model, device) \n",
    "save_pred(preds, 'pred.csv')         "
   ]
  },
  {
   "cell_type": "code",
   "execution_count": 1,
   "metadata": {},
   "outputs": [
    {
     "data": {
      "text/html": [
       "\n",
       "      <iframe id=\"tensorboard-frame-c2f963ba9ab788ee\" width=\"100%\" height=\"800\" frameborder=\"0\">\n",
       "      </iframe>\n",
       "      <script>\n",
       "        (function() {\n",
       "          const frame = document.getElementById(\"tensorboard-frame-c2f963ba9ab788ee\");\n",
       "          const url = new URL(\"/\", window.location);\n",
       "          const port = 6006;\n",
       "          if (port) {\n",
       "            url.port = port;\n",
       "          }\n",
       "          frame.src = url;\n",
       "        })();\n",
       "      </script>\n",
       "    "
      ],
      "text/plain": [
       "<IPython.core.display.HTML object>"
      ]
     },
     "metadata": {},
     "output_type": "display_data"
    }
   ],
   "source": [
    "%reload_ext tensorboard\n",
    "%tensorboard --logdir=./runs/"
   ]
  }
 ],
 "metadata": {
  "interpreter": {
   "hash": "960e6ed259eaee5b44eb3de64476b91dbf80b8c48856b46aafe249a40eac1eb7"
  },
  "kernelspec": {
   "display_name": "Python 2",
   "language": "python",
   "name": "python3"
  },
  "language_info": {
   "codemirror_mode": {
    "name": "ipython",
    "version": 3
   },
   "file_extension": ".py",
   "mimetype": "text/x-python",
   "name": "python",
   "nbconvert_exporter": "python",
   "pygments_lexer": "ipython3",
   "version": "3.9.10"
  },
  "orig_nbformat": 4
 },
 "nbformat": 4,
 "nbformat_minor": 2
}
